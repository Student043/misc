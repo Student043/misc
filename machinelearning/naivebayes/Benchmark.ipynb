{
 "cells": [
  {
   "cell_type": "code",
   "execution_count": 1,
   "metadata": {
    "collapsed": false
   },
   "outputs": [],
   "source": [
    "from sklearn.cross_validation import train_test_split\n",
    "import sklearn.metrics\n",
    "import sklearn.naive_bayes\n",
    "from sklearn import preprocessing, datasets\n",
    "import complement_nb\n",
    "import negation_nb\n",
    "import universalset_nb\n",
    "\n",
    "DATASETS = (\n",
    "    datasets.load_iris(),\n",
    "    datasets.fetch_mldata('MNIST original'),\n",
    "    datasets.fetch_20newsgroups_vectorized(),\n",
    "    datasets.fetch_mldata(\"yahoo-web-directory-topics\")\n",
    ")"
   ]
  },
  {
   "cell_type": "code",
   "execution_count": 2,
   "metadata": {
    "collapsed": false
   },
   "outputs": [],
   "source": [
    "def benchmark(clf):\n",
    "    for dataset in DATASETS:\n",
    "        if hasattr(dataset, 'DESCR'):\n",
    "            print(dataset.DESCR.splitlines()[0].strip())\n",
    "        else:\n",
    "            print('20newsgroups')\n",
    "\n",
    "        X_train, X_test, y_train, y_test = train_test_split(dataset.data, dataset.target,\n",
    "                                                            test_size=0.2, random_state=42)\n",
    "        clf.fit(X_train, y_train)\n",
    "        result = clf.predict(X_test)\n",
    "        print(sklearn.metrics.classification_report(y_test, result))"
   ]
  },
  {
   "cell_type": "code",
   "execution_count": 3,
   "metadata": {
    "collapsed": false
   },
   "outputs": [
    {
     "name": "stdout",
     "output_type": "stream",
     "text": [
      "Iris Plants Database\n",
      "             precision    recall  f1-score   support\n",
      "\n",
      "          0       1.00      1.00      1.00        10\n",
      "          1       0.75      1.00      0.86         9\n",
      "          2       1.00      0.73      0.84        11\n",
      "\n",
      "avg / total       0.93      0.90      0.90        30\n",
      "\n",
      "mldata.org dataset: mnist-original\n",
      "             precision    recall  f1-score   support\n",
      "\n",
      "        0.0       0.92      0.90      0.91      1349\n",
      "        1.0       0.88      0.95      0.91      1581\n",
      "        2.0       0.88      0.83      0.86      1400\n",
      "        3.0       0.79      0.82      0.81      1434\n",
      "        4.0       0.83      0.74      0.79      1328\n",
      "        5.0       0.85      0.67      0.75      1286\n",
      "        6.0       0.89      0.92      0.90      1407\n",
      "        7.0       0.95      0.83      0.88      1476\n",
      "        8.0       0.66      0.78      0.71      1391\n",
      "        9.0       0.68      0.82      0.74      1348\n",
      "\n",
      "avg / total       0.84      0.83      0.83     14000\n",
      "\n",
      "20newsgroups\n",
      "             precision    recall  f1-score   support\n",
      "\n",
      "          0       0.88      0.38      0.53        93\n",
      "          1       0.82      0.62      0.71       118\n",
      "          2       0.89      0.66      0.76       128\n",
      "          3       0.62      0.77      0.69       120\n",
      "          4       0.72      0.82      0.77       102\n",
      "          5       0.88      0.73      0.80       124\n",
      "          6       0.88      0.66      0.76       112\n",
      "          7       0.65      0.95      0.77       112\n",
      "          8       0.91      0.88      0.90       118\n",
      "          9       0.97      0.93      0.95       125\n",
      "         10       0.95      0.94      0.94       117\n",
      "         11       0.52      0.97      0.68       120\n",
      "         12       0.92      0.50      0.65       138\n",
      "         13       0.87      0.90      0.88       118\n",
      "         14       0.90      0.87      0.88       122\n",
      "         15       0.38      0.98      0.55       120\n",
      "         16       0.81      0.84      0.83       105\n",
      "         17       0.95      0.85      0.90       115\n",
      "         18       1.00      0.16      0.27        90\n",
      "         19       1.00      0.02      0.03        66\n",
      "\n",
      "avg / total       0.82      0.74      0.73      2263\n",
      "\n",
      "mldata.org dataset: yahoo-web-directory-topics\n",
      "             precision    recall  f1-score   support\n",
      "\n",
      "          1       0.65      0.71      0.68        48\n",
      "          2       0.88      0.67      0.76        66\n",
      "          3       0.58      0.81      0.68        52\n",
      "          4       0.69      0.59      0.63        56\n",
      "\n",
      "avg / total       0.71      0.69      0.69       222\n",
      "\n"
     ]
    }
   ],
   "source": [
    "benchmark(sklearn.naive_bayes.MultinomialNB())"
   ]
  },
  {
   "cell_type": "code",
   "execution_count": 4,
   "metadata": {
    "collapsed": false
   },
   "outputs": [
    {
     "name": "stdout",
     "output_type": "stream",
     "text": [
      "Iris Plants Database\n",
      "             precision    recall  f1-score   support\n",
      "\n",
      "          0       1.00      1.00      1.00        10\n",
      "          1       0.00      0.00      0.00         9\n",
      "          2       0.55      1.00      0.71        11\n",
      "\n",
      "avg / total       0.54      0.70      0.59        30\n",
      "\n",
      "mldata.org dataset: mnist-original\n"
     ]
    },
    {
     "name": "stderr",
     "output_type": "stream",
     "text": [
      "/usr/local/Cellar/python3/3.5.1/Frameworks/Python.framework/Versions/3.5/lib/python3.5/site-packages/sklearn/metrics/classification.py:1074: UndefinedMetricWarning: Precision and F-score are ill-defined and being set to 0.0 in labels with no predicted samples.\n",
      "  'precision', 'predicted', average, warn_for)\n"
     ]
    },
    {
     "name": "stdout",
     "output_type": "stream",
     "text": [
      "             precision    recall  f1-score   support\n",
      "\n",
      "        0.0       0.61      0.91      0.73      1349\n",
      "        1.0       0.70      0.97      0.81      1581\n",
      "        2.0       0.82      0.73      0.77      1400\n",
      "        3.0       0.67      0.78      0.72      1434\n",
      "        4.0       0.93      0.58      0.72      1328\n",
      "        5.0       0.78      0.46      0.58      1286\n",
      "        6.0       0.81      0.86      0.83      1407\n",
      "        7.0       0.65      0.90      0.75      1476\n",
      "        8.0       0.85      0.38      0.52      1391\n",
      "        9.0       0.64      0.54      0.58      1348\n",
      "\n",
      "avg / total       0.74      0.72      0.71     14000\n",
      "\n",
      "20newsgroups\n",
      "             precision    recall  f1-score   support\n",
      "\n",
      "          0       0.97      0.61      0.75        93\n",
      "          1       0.88      0.79      0.83       118\n",
      "          2       0.91      0.85      0.88       128\n",
      "          3       0.74      0.79      0.77       120\n",
      "          4       0.91      0.84      0.87       102\n",
      "          5       0.86      0.90      0.88       124\n",
      "          6       0.84      0.79      0.81       112\n",
      "          7       0.91      0.98      0.94       112\n",
      "          8       0.93      0.97      0.95       118\n",
      "          9       0.95      0.97      0.96       125\n",
      "         10       0.87      1.00      0.93       117\n",
      "         11       0.79      0.98      0.88       120\n",
      "         12       0.97      0.73      0.83       138\n",
      "         13       0.92      0.93      0.92       118\n",
      "         14       0.86      0.98      0.92       122\n",
      "         15       0.53      0.98      0.69       120\n",
      "         16       0.86      0.90      0.88       105\n",
      "         17       0.90      0.97      0.93       115\n",
      "         18       1.00      0.43      0.60        90\n",
      "         19       1.00      0.09      0.17        66\n",
      "\n",
      "avg / total       0.87      0.85      0.84      2263\n",
      "\n",
      "mldata.org dataset: yahoo-web-directory-topics\n",
      "             precision    recall  f1-score   support\n",
      "\n",
      "          1       0.69      0.71      0.70        48\n",
      "          2       0.89      0.74      0.81        66\n",
      "          3       0.59      0.79      0.68        52\n",
      "          4       0.71      0.62      0.67        56\n",
      "\n",
      "avg / total       0.73      0.72      0.72       222\n",
      "\n"
     ]
    }
   ],
   "source": [
    "benchmark(complement_nb.ComplementNB())"
   ]
  },
  {
   "cell_type": "code",
   "execution_count": 5,
   "metadata": {
    "collapsed": false
   },
   "outputs": [
    {
     "name": "stdout",
     "output_type": "stream",
     "text": [
      "Iris Plants Database\n",
      "             precision    recall  f1-score   support\n",
      "\n",
      "          0       1.00      1.00      1.00        10\n",
      "          1       0.00      0.00      0.00         9\n",
      "          2       0.55      1.00      0.71        11\n",
      "\n",
      "avg / total       0.54      0.70      0.59        30\n",
      "\n",
      "mldata.org dataset: mnist-original\n"
     ]
    },
    {
     "name": "stderr",
     "output_type": "stream",
     "text": [
      "/usr/local/Cellar/python3/3.5.1/Frameworks/Python.framework/Versions/3.5/lib/python3.5/site-packages/sklearn/metrics/classification.py:1074: UndefinedMetricWarning: Precision and F-score are ill-defined and being set to 0.0 in labels with no predicted samples.\n",
      "  'precision', 'predicted', average, warn_for)\n"
     ]
    },
    {
     "name": "stdout",
     "output_type": "stream",
     "text": [
      "             precision    recall  f1-score   support\n",
      "\n",
      "        0.0       0.61      0.91      0.73      1349\n",
      "        1.0       0.70      0.97      0.81      1581\n",
      "        2.0       0.82      0.73      0.77      1400\n",
      "        3.0       0.67      0.78      0.72      1434\n",
      "        4.0       0.93      0.58      0.72      1328\n",
      "        5.0       0.78      0.46      0.58      1286\n",
      "        6.0       0.81      0.86      0.83      1407\n",
      "        7.0       0.65      0.90      0.75      1476\n",
      "        8.0       0.85      0.38      0.52      1391\n",
      "        9.0       0.64      0.54      0.58      1348\n",
      "\n",
      "avg / total       0.74      0.72      0.71     14000\n",
      "\n",
      "20newsgroups\n",
      "             precision    recall  f1-score   support\n",
      "\n",
      "          0       0.90      0.81      0.85        93\n",
      "          1       0.86      0.79      0.82       118\n",
      "          2       0.90      0.88      0.89       128\n",
      "          3       0.74      0.78      0.76       120\n",
      "          4       0.93      0.84      0.89       102\n",
      "          5       0.87      0.89      0.88       124\n",
      "          6       0.85      0.78      0.81       112\n",
      "          7       0.95      0.98      0.96       112\n",
      "          8       0.97      0.97      0.97       118\n",
      "          9       0.97      0.97      0.97       125\n",
      "         10       0.90      1.00      0.95       117\n",
      "         11       0.89      0.98      0.93       120\n",
      "         12       0.93      0.83      0.88       138\n",
      "         13       0.96      0.92      0.94       118\n",
      "         14       0.88      0.98      0.92       122\n",
      "         15       0.68      0.98      0.80       120\n",
      "         16       0.88      0.93      0.91       105\n",
      "         17       0.91      0.97      0.94       115\n",
      "         18       1.00      0.82      0.90        90\n",
      "         19       0.96      0.41      0.57        66\n",
      "\n",
      "avg / total       0.89      0.89      0.88      2263\n",
      "\n",
      "mldata.org dataset: yahoo-web-directory-topics\n",
      "             precision    recall  f1-score   support\n",
      "\n",
      "          1       0.69      0.71      0.70        48\n",
      "          2       0.89      0.74      0.81        66\n",
      "          3       0.60      0.77      0.67        52\n",
      "          4       0.69      0.62      0.65        56\n",
      "\n",
      "avg / total       0.73      0.71      0.71       222\n",
      "\n"
     ]
    }
   ],
   "source": [
    "benchmark(negation_nb.NegationNB())"
   ]
  },
  {
   "cell_type": "code",
   "execution_count": 6,
   "metadata": {
    "collapsed": false
   },
   "outputs": [
    {
     "name": "stdout",
     "output_type": "stream",
     "text": [
      "Iris Plants Database\n",
      "             precision    recall  f1-score   support\n",
      "\n",
      "          0       0.00      0.00      0.00        10\n",
      "          1       0.00      0.00      0.00         9\n",
      "          2       0.37      1.00      0.54        11\n",
      "\n",
      "avg / total       0.13      0.37      0.20        30\n",
      "\n",
      "mldata.org dataset: mnist-original\n"
     ]
    },
    {
     "name": "stderr",
     "output_type": "stream",
     "text": [
      "/usr/local/Cellar/python3/3.5.1/Frameworks/Python.framework/Versions/3.5/lib/python3.5/site-packages/sklearn/metrics/classification.py:1074: UndefinedMetricWarning: Precision and F-score are ill-defined and being set to 0.0 in labels with no predicted samples.\n",
      "  'precision', 'predicted', average, warn_for)\n"
     ]
    },
    {
     "name": "stdout",
     "output_type": "stream",
     "text": [
      "             precision    recall  f1-score   support\n",
      "\n",
      "        0.0       0.64      0.96      0.77      1349\n",
      "        1.0       1.00      0.64      0.78      1581\n",
      "        2.0       0.81      0.85      0.83      1400\n",
      "        3.0       0.72      0.83      0.77      1434\n",
      "        4.0       0.94      0.52      0.67      1328\n",
      "        5.0       0.98      0.08      0.15      1286\n",
      "        6.0       0.92      0.86      0.89      1407\n",
      "        7.0       0.96      0.75      0.85      1476\n",
      "        8.0       0.39      0.88      0.54      1391\n",
      "        9.0       0.71      0.73      0.72      1348\n",
      "\n",
      "avg / total       0.81      0.72      0.70     14000\n",
      "\n",
      "20newsgroups\n",
      "             precision    recall  f1-score   support\n",
      "\n",
      "          0       0.92      0.35      0.51        93\n",
      "          1       0.82      0.58      0.68       118\n",
      "          2       0.89      0.68      0.77       128\n",
      "          3       0.63      0.76      0.69       120\n",
      "          4       0.72      0.81      0.76       102\n",
      "          5       0.88      0.74      0.81       124\n",
      "          6       0.88      0.66      0.76       112\n",
      "          7       0.65      0.95      0.77       112\n",
      "          8       0.91      0.89      0.90       118\n",
      "          9       0.97      0.92      0.95       125\n",
      "         10       0.92      0.94      0.93       117\n",
      "         11       0.50      0.97      0.66       120\n",
      "         12       0.96      0.49      0.64       138\n",
      "         13       0.86      0.90      0.88       118\n",
      "         14       0.88      0.87      0.87       122\n",
      "         15       0.37      0.98      0.54       120\n",
      "         16       0.85      0.82      0.83       105\n",
      "         17       0.95      0.84      0.89       115\n",
      "         18       1.00      0.12      0.22        90\n",
      "         19       1.00      0.02      0.03        66\n",
      "\n",
      "avg / total       0.82      0.74      0.73      2263\n",
      "\n",
      "mldata.org dataset: yahoo-web-directory-topics\n",
      "             precision    recall  f1-score   support\n",
      "\n",
      "          1       0.83      0.50      0.62        48\n",
      "          2       0.43      0.97      0.59        66\n",
      "          3       0.86      0.23      0.36        52\n",
      "          4       0.76      0.39      0.52        56\n",
      "\n",
      "avg / total       0.70      0.55      0.53       222\n",
      "\n"
     ]
    }
   ],
   "source": [
    "benchmark(universalset_nb.UniversalSetNB())"
   ]
  }
 ],
 "metadata": {
  "kernelspec": {
   "display_name": "Python 3",
   "language": "python",
   "name": "python3"
  },
  "language_info": {
   "codemirror_mode": {
    "name": "ipython",
    "version": 3
   },
   "file_extension": ".py",
   "mimetype": "text/x-python",
   "name": "python",
   "nbconvert_exporter": "python",
   "pygments_lexer": "ipython3",
   "version": "3.5.1"
  }
 },
 "nbformat": 4,
 "nbformat_minor": 0
}
