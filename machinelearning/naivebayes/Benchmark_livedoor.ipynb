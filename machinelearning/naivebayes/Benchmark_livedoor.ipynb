{
 "cells": [
  {
   "cell_type": "markdown",
   "metadata": {},
   "source": [
    "# データのダウンロード"
   ]
  },
  {
   "cell_type": "code",
   "execution_count": 1,
   "metadata": {},
   "outputs": [
    {
     "data": {
      "text/plain": [
       "['  % Total    % Received % Xferd  Average Speed   Time    Time     Time  Current',\n",
       " '                                 Dload  Upload   Total   Spent    Left  Speed',\n",
       " '',\n",
       " '  0     0    0     0    0     0      0      0 --:--:-- --:--:-- --:--:--     0',\n",
       " '  7 8647k    7  671k    0     0  2057k      0  0:00:04 --:--:--  0:00:04 2054k',\n",
       " ' 60 8647k   60 5191k    0     0  3918k      0  0:00:02  0:00:01  0:00:01 3918k',\n",
       " '100 8647k  100 8647k    0     0  4448k      0  0:00:01  0:00:01 --:--:-- 4448k']"
      ]
     },
     "execution_count": 1,
     "metadata": {},
     "output_type": "execute_result"
    }
   ],
   "source": [
    "%system curl -O 'https://www.rondhuit.com/download/ldcc-20140209.tar.gz'"
   ]
  },
  {
   "cell_type": "code",
   "execution_count": 2,
   "metadata": {
    "collapsed": true
   },
   "outputs": [],
   "source": [
    "import tarfile\n",
    "\n",
    "with tarfile.open('ldcc-20140209.tar.gz') as tar:\n",
    "    tar.extractall(path='livedoor')"
   ]
  },
  {
   "cell_type": "code",
   "execution_count": 3,
   "metadata": {
    "collapsed": true
   },
   "outputs": [],
   "source": [
    "import glob\n",
    "import os\n",
    "\n",
    "# 一部クラスのデータを削除してデータ量を偏らせる\n",
    "y = []\n",
    "for directory in glob.glob('livedoor/text/*/'):\n",
    "    dir_name = directory.split('/')[-2]\n",
    "    if dir_name not in ('kaden-channel', 'dokujo-tsushin', 'smax'):\n",
    "        filelist = sorted(glob.glob(directory + '*'))\n",
    "        for i in range(int(len(filelist) * 0.6)):\n",
    "            os.remove(filelist[i])\n",
    "    else:\n",
    "        os.remove(directory + '/LICENSE.txt')\n",
    "\n",
    "            \n",
    "for directory in glob.glob('livedoor/text/*/'):\n",
    "    dir_name = directory.split('/')[-2]\n",
    "    label = dir_name\n",
    "    y += [label] * len(glob.glob(directory + '*'))"
   ]
  },
  {
   "cell_type": "code",
   "execution_count": 4,
   "metadata": {
    "collapsed": true
   },
   "outputs": [],
   "source": [
    "from sklearn import feature_extraction\n",
    "import neologdn\n",
    "import glob\n",
    "import MeCab\n",
    "\n",
    "t = MeCab.Tagger()\n",
    "t.parse('')\n",
    "\n",
    "def tokenizer(content):\n",
    "    nouns = []\n",
    "    for line in filter(bool, content.splitlines()[2:]):\n",
    "        for token in t.parse(line).splitlines()[:-1]:\n",
    "            if '名詞,' in token and '非自立' not in line and '接尾' not in line:\n",
    "                nouns.append(token.split('\\t')[0])\n",
    "    return ' '.join(nouns)\n",
    "    \n",
    "\n",
    "\n",
    "tfv = feature_extraction.text.TfidfVectorizer(input='filename', preprocessor=neologdn.normalize,\n",
    "                                              tokenizer=tokenizer, analyzer='word')\n",
    "X = tfv.fit_transform(glob.glob('livedoor/text/*/*.txt'))"
   ]
  },
  {
   "cell_type": "code",
   "execution_count": 5,
   "metadata": {
    "collapsed": true
   },
   "outputs": [],
   "source": [
    "from sklearn.model_selection import train_test_split\n",
    "import sklearn.metrics\n",
    "\n",
    "\n",
    "def benchmark(clf, X, y):\n",
    "    X_train, X_test, y_train, y_test = train_test_split(X, y, test_size=0.1, random_state=42)\n",
    "    clf.fit(X_train, y_train)\n",
    "    result = clf.predict(X_test)\n",
    "    print(sklearn.metrics.classification_report(y_test, result))"
   ]
  },
  {
   "cell_type": "code",
   "execution_count": 6,
   "metadata": {},
   "outputs": [
    {
     "name": "stdout",
     "output_type": "stream",
     "text": [
      "                precision    recall  f1-score   support\n",
      "\n",
      "dokujo-tsushin       0.50      0.84      0.63        80\n",
      "  it-life-hack       1.00      0.03      0.05        36\n",
      " kaden-channel       0.43      0.93      0.59        86\n",
      "livedoor-homme       0.00      0.00      0.00        14\n",
      "   movie-enter       0.00      0.00      0.00        44\n",
      "        peachy       0.00      0.00      0.00        31\n",
      "          smax       0.72      1.00      0.83        93\n",
      "  sports-watch       0.00      0.00      0.00        36\n",
      "    topic-news       1.00      0.06      0.12        32\n",
      "\n",
      "   avg / total       0.47      0.54      0.41       452\n",
      "\n"
     ]
    },
    {
     "name": "stderr",
     "output_type": "stream",
     "text": [
      "/work/venv/py3/lib/python3.6/site-packages/sklearn/metrics/classification.py:1135: UndefinedMetricWarning: Precision and F-score are ill-defined and being set to 0.0 in labels with no predicted samples.\n",
      "  'precision', 'predicted', average, warn_for)\n"
     ]
    }
   ],
   "source": [
    "import sklearn.naive_bayes\n",
    "benchmark(sklearn.naive_bayes.MultinomialNB(), X, y)"
   ]
  },
  {
   "cell_type": "code",
   "execution_count": 7,
   "metadata": {},
   "outputs": [
    {
     "name": "stdout",
     "output_type": "stream",
     "text": [
      "                precision    recall  f1-score   support\n",
      "\n",
      "dokujo-tsushin       0.40      0.97      0.57        80\n",
      "  it-life-hack       1.00      0.03      0.05        36\n",
      " kaden-channel       0.67      0.71      0.69        86\n",
      "livedoor-homme       0.00      0.00      0.00        14\n",
      "   movie-enter       0.00      0.00      0.00        44\n",
      "        peachy       0.00      0.00      0.00        31\n",
      "          smax       0.56      1.00      0.72        93\n",
      "  sports-watch       0.00      0.00      0.00        36\n",
      "    topic-news       0.00      0.00      0.00        32\n",
      "\n",
      "   avg / total       0.39      0.52      0.38       452\n",
      "\n"
     ]
    },
    {
     "name": "stderr",
     "output_type": "stream",
     "text": [
      "/work/venv/py3/lib/python3.6/site-packages/sklearn/metrics/classification.py:1135: UndefinedMetricWarning: Precision and F-score are ill-defined and being set to 0.0 in labels with no predicted samples.\n",
      "  'precision', 'predicted', average, warn_for)\n"
     ]
    }
   ],
   "source": [
    "import complement_nb\n",
    "benchmark(complement_nb.ComplementNB(), X, y)"
   ]
  },
  {
   "cell_type": "code",
   "execution_count": 8,
   "metadata": {},
   "outputs": [
    {
     "name": "stdout",
     "output_type": "stream",
     "text": [
      "                precision    recall  f1-score   support\n",
      "\n",
      "dokujo-tsushin       0.54      0.97      0.69        80\n",
      "  it-life-hack       1.00      0.14      0.24        36\n",
      " kaden-channel       0.87      0.72      0.79        86\n",
      "livedoor-homme       1.00      0.07      0.13        14\n",
      "   movie-enter       1.00      0.45      0.62        44\n",
      "        peachy       1.00      0.03      0.06        31\n",
      "          smax       0.57      1.00      0.73        93\n",
      "  sports-watch       0.89      0.69      0.78        36\n",
      "    topic-news       0.94      0.53      0.68        32\n",
      "\n",
      "   avg / total       0.79      0.67      0.62       452\n",
      "\n"
     ]
    }
   ],
   "source": [
    "import negation_nb\n",
    "benchmark(negation_nb.NegationNB(), X, y)"
   ]
  },
  {
   "cell_type": "code",
   "execution_count": 9,
   "metadata": {},
   "outputs": [
    {
     "name": "stdout",
     "output_type": "stream",
     "text": [
      "                precision    recall  f1-score   support\n",
      "\n",
      "dokujo-tsushin       0.57      0.91      0.71        80\n",
      "  it-life-hack       1.00      0.14      0.24        36\n",
      " kaden-channel       0.57      0.91      0.70        86\n",
      "livedoor-homme       1.00      0.07      0.13        14\n",
      "   movie-enter       1.00      0.30      0.46        44\n",
      "        peachy       1.00      0.06      0.12        31\n",
      "          smax       0.68      1.00      0.81        93\n",
      "  sports-watch       0.94      0.47      0.63        36\n",
      "    topic-news       1.00      0.34      0.51        32\n",
      "\n",
      "   avg / total       0.77      0.65      0.59       452\n",
      "\n"
     ]
    }
   ],
   "source": [
    "import universalset_nb\n",
    "benchmark(universalset_nb.UniversalSetNB(), X, y)"
   ]
  },
  {
   "cell_type": "code",
   "execution_count": 10,
   "metadata": {},
   "outputs": [
    {
     "name": "stdout",
     "output_type": "stream",
     "text": [
      "                precision    recall  f1-score   support\n",
      "\n",
      "dokujo-tsushin       0.61      0.96      0.74        80\n",
      "  it-life-hack       1.00      0.14      0.24        36\n",
      " kaden-channel       0.92      0.70      0.79        86\n",
      "livedoor-homme       1.00      0.14      0.25        14\n",
      "   movie-enter       0.94      0.73      0.82        44\n",
      "        peachy       0.50      0.06      0.11        31\n",
      "          smax       0.60      1.00      0.75        93\n",
      "  sports-watch       0.88      0.83      0.86        36\n",
      "    topic-news       0.88      0.69      0.77        32\n",
      "\n",
      "   avg / total       0.77      0.71      0.67       452\n",
      "\n"
     ]
    }
   ],
   "source": [
    "import selective_nb\n",
    "benchmark(selective_nb.SelectiveNB(), X, y)"
   ]
  }
 ],
 "metadata": {
  "kernelspec": {
   "display_name": "Python 3",
   "language": "python",
   "name": "python3"
  },
  "language_info": {
   "codemirror_mode": {
    "name": "ipython",
    "version": 3
   },
   "file_extension": ".py",
   "mimetype": "text/x-python",
   "name": "python",
   "nbconvert_exporter": "python",
   "pygments_lexer": "ipython3",
   "version": "3.6.0"
  }
 },
 "nbformat": 4,
 "nbformat_minor": 1
}
